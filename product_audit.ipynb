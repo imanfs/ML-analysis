{
 "cells": [
  {
   "cell_type": "code",
   "execution_count": 9,
   "id": "cf5afefd",
   "metadata": {},
   "outputs": [],
   "source": [
    "import json\n",
    "from dotenv import load_dotenv\n",
    "import os"
   ]
  },
  {
   "cell_type": "code",
   "execution_count": 10,
   "id": "81e10759",
   "metadata": {},
   "outputs": [
    {
     "data": {
      "text/plain": [
       "True"
      ]
     },
     "execution_count": 10,
     "metadata": {},
     "output_type": "execute_result"
    }
   ],
   "source": [
    "load_dotenv()"
   ]
  },
  {
   "cell_type": "code",
   "execution_count": 11,
   "id": "44d6840a",
   "metadata": {},
   "outputs": [],
   "source": [
    "username = os.getenv(\"USERNAME\")\n",
    "password = os.getenv(\"PASSWORD\")\n"
   ]
  },
  {
   "cell_type": "code",
   "execution_count": 12,
   "id": "022f5ff1",
   "metadata": {},
   "outputs": [],
   "source": [
    "with open(\"/Users/iman/Downloads/assets/response_1749827030702_345.json\") as f:\n",
    "    data = json.load(f)\n",
    "    data_345 = data[\"data\"]\n",
    "\n",
    "uuids_345 = [entry[\"uuid\"] for entry in data_345]\n",
    "set_uuids_345 = set(uuids_345)"
   ]
  },
  {
   "cell_type": "code",
   "execution_count": 13,
   "id": "17068ad7",
   "metadata": {},
   "outputs": [],
   "source": [
    "with open(\"/Users/iman/Downloads/assets/response_1749825253955_ccbf.json\") as f:\n",
    "    data = json.load(f)\n",
    "    data_ccbf = data[\"data\"]\n",
    "\n",
    "uuids_ccbf = [entry[\"product\"][\"uuid\"] for entry in data_ccbf]\n",
    "set_uuids_ccbf = set(uuids_ccbf)\n",
    "original_products_coke = [entry[\"product\"][\"baseProduct\"] for entry in data_ccbf]"
   ]
  },
  {
   "cell_type": "code",
   "execution_count": 14,
   "id": "fd7b1eff",
   "metadata": {},
   "outputs": [],
   "source": [
    "with open(\"/Users/iman/Downloads/assets/response_1749825091551_telstra.json\") as f:\n",
    "    data = json.load(f)\n",
    "    data_telstra = data[\"data\"]\n",
    "uuids_telstra = [entry[\"product\"][\"uuid\"] for entry in data_telstra]\n",
    "set_uuids_telstra = set(uuids_telstra)"
   ]
  },
  {
   "cell_type": "code",
   "execution_count": 15,
   "id": "65dbbeca",
   "metadata": {},
   "outputs": [
    {
     "ename": "TypeError",
     "evalue": "string indices must be integers, not 'str'",
     "output_type": "error",
     "traceback": [
      "\u001b[31m---------------------------------------------------------------------------\u001b[39m",
      "\u001b[31mTypeError\u001b[39m                                 Traceback (most recent call last)",
      "\u001b[36mCell\u001b[39m\u001b[36m \u001b[39m\u001b[32mIn[15]\u001b[39m\u001b[32m, line 1\u001b[39m\n\u001b[32m----> \u001b[39m\u001b[32m1\u001b[39m diff_base_orig = [entry \u001b[38;5;28;01mfor\u001b[39;00m entry \u001b[38;5;129;01min\u001b[39;00m data \u001b[38;5;28;01mif\u001b[39;00m \u001b[43mentry\u001b[49m\u001b[43m[\u001b[49m\u001b[33;43m\"\u001b[39;49m\u001b[33;43mbaseProduct\u001b[39;49m\u001b[33;43m\"\u001b[39;49m\u001b[43m]\u001b[49m != entry[\u001b[33m\"\u001b[39m\u001b[33moriginalProduct\u001b[39m\u001b[33m\"\u001b[39m]]\n",
      "\u001b[31mTypeError\u001b[39m: string indices must be integers, not 'str'"
     ]
    }
   ],
   "source": [
    "diff_base_orig = [entry for entry in data if entry[\"baseProduct\"] != entry[\"originalProduct\"]]"
   ]
  },
  {
   "cell_type": "code",
   "execution_count": 16,
   "id": "5fdea823",
   "metadata": {},
   "outputs": [
    {
     "ename": "NameError",
     "evalue": "name 'diff_base_orig' is not defined",
     "output_type": "error",
     "traceback": [
      "\u001b[31m---------------------------------------------------------------------------\u001b[39m",
      "\u001b[31mNameError\u001b[39m                                 Traceback (most recent call last)",
      "\u001b[36mCell\u001b[39m\u001b[36m \u001b[39m\u001b[32mIn[16]\u001b[39m\u001b[32m, line 1\u001b[39m\n\u001b[32m----> \u001b[39m\u001b[32m1\u001b[39m \u001b[38;5;28mlen\u001b[39m(\u001b[43mdiff_base_orig\u001b[49m)\n",
      "\u001b[31mNameError\u001b[39m: name 'diff_base_orig' is not defined"
     ]
    }
   ],
   "source": [
    "len(diff_base_orig)"
   ]
  },
  {
   "cell_type": "code",
   "execution_count": 17,
   "id": "b7e8e824",
   "metadata": {},
   "outputs": [],
   "source": [
    "with open(\"/Users/iman/Downloads/assets/response_1749825091551_telstra.json\") as f:\n",
    "    data = json.load(f)\n",
    "    data = data[\"data\"]\n",
    "\n",
    "uuids_telstra = set([entry[\"product\"][\"uuid\"] for entry in data])"
   ]
  },
  {
   "cell_type": "code",
   "execution_count": 18,
   "id": "63999d1a",
   "metadata": {},
   "outputs": [
    {
     "name": "stdout",
     "output_type": "stream",
     "text": [
      "Number of unique UUIDs in 345 not in Coke or Telstra: 609\n"
     ]
    }
   ],
   "source": [
    "delta = set_uuids_345 - set_uuids_ccbf - set_uuids_telstra\n",
    "print(f\"Number of unique UUIDs in 345 not in Coke or Telstra: {len(delta)}\")"
   ]
  },
  {
   "cell_type": "code",
   "execution_count": 19,
   "id": "195acd12",
   "metadata": {},
   "outputs": [],
   "source": [
    "json.dump(list(delta), open(\"/Users/iman/Downloads/assets/delta_345.json\", \"w\"))"
   ]
  },
  {
   "cell_type": "code",
   "execution_count": 20,
   "id": "315cc763",
   "metadata": {},
   "outputs": [],
   "source": [
    "orgs = {}\n",
    "orgs_count = {}\n",
    "for entry in data_ccbf:\n",
    "    if entry[\"product\"][\"organisationUuid\"] not in orgs and entry[\"product\"][\"organisationUuid\"] != '18a7eed1-a257-4aec-88cf-04f213816009':\n",
    "        orgs[entry[\"product\"][\"organisationUuid\"]] = {\"entries\": [], \"count\": 0}\n",
    "    if entry[\"product\"][\"organisationUuid\"] != '18a7eed1-a257-4aec-88cf-04f213816009':\n",
    "        orgs[entry[\"product\"][\"organisationUuid\"]][\"entries\"].append(entry)\n",
    "        orgs[entry[\"product\"][\"organisationUuid\"]][\"count\"] += 1\n"
   ]
  },
  {
   "cell_type": "code",
   "execution_count": 41,
   "id": "8b4711f4",
   "metadata": {},
   "outputs": [],
   "source": [
    "data = {org: [e[\"product\"][\"uuid\"] for e in entries[\"entries\"]] for org, entries in orgs.items()}"
   ]
  },
  {
   "cell_type": "code",
   "execution_count": 44,
   "id": "7cb1f513",
   "metadata": {},
   "outputs": [],
   "source": [
    "import pandas as pd\n",
    "rows = [(org, uuid) for org, uuids in data.items() for uuid in uuids]\n",
    "df2 = pd.DataFrame(rows, columns=[\"org\", \"uuid\"])\n",
    "df2.to_csv(\"org_inconsistencies.csv\")"
   ]
  },
  {
   "cell_type": "code",
   "execution_count": 159,
   "id": "4bd6eaba",
   "metadata": {},
   "outputs": [],
   "source": [
    "login_url = \"https://api.345.global/api/v1/login/access-token\"\n",
    "credentials = {\"username\": username, \"password\": password,\"grant_type\": \"password\"}\n",
    "response = requests.post(login_url, data=credentials)\n",
    "token_response = response.json()"
   ]
  },
  {
   "cell_type": "code",
   "execution_count": 99,
   "id": "ca829d7a",
   "metadata": {},
   "outputs": [],
   "source": [
    "#access_token = token_response[\"access_token\"]\n",
    "token_type = token_response.get(\"token_type\", \"Bearer\") \n",
    "token = token_response.get(\"access_token\", None)"
   ]
  },
  {
   "cell_type": "code",
   "execution_count": 100,
   "id": "6c1587be",
   "metadata": {},
   "outputs": [],
   "source": [
    "# 2. Set headers\n",
    "headers = {\n",
    "    \"Authorization\": f\"{token_type} {token}\"\n",
    "}\n",
    "\n",
    "uuids_filter = \"\"\n",
    "from urllib.parse import quote\n",
    "for entry in delta:\n",
    "    uuids_filter += f\"uuid={entry},\"\n",
    "uuids_filter_url = quote(uuids_filter[:-1])\n",
    "# 3. Make request to protected endpoint\n",
    "url = f\"https://api.345.global/api/v1/products/paginate?columns=uuid&columns=name&columns=classificationType&columns=organisationUuid&columns=baseProduct&columns=originalProduct&columns=deletedAt&filter=organisationUuid%3D18a7eed1-a257-4aec-88cf-04f213816009%2C{uuids_filter_url}&includeAssets=false&skip=0&limit=5000&withoutDeleted=true&withoutVariants=false&withoutWallpaper=true&withProvisional=false\"\n",
    "\n",
    "response = requests.get(url, headers=headers)\n"
   ]
  },
  {
   "cell_type": "code",
   "execution_count": 205,
   "id": "df22e00c",
   "metadata": {},
   "outputs": [],
   "source": [
    "missing_in_ccbf = response_data[\"data\"]"
   ]
  },
  {
   "cell_type": "code",
   "execution_count": 209,
   "id": "b80bb335",
   "metadata": {},
   "outputs": [],
   "source": [
    "import pandas as pd\n",
    "df_missing_in_ccbf = pd.DataFrame(missing_in_ccbf)\n",
    "\n",
    "df_missing_in_ccbf.to_csv(\"/Users/iman/Downloads/assets/missing_in_ccbf.csv\", index=False)"
   ]
  },
  {
   "cell_type": "code",
   "execution_count": 198,
   "id": "01740f48",
   "metadata": {},
   "outputs": [],
   "source": [
    "multipack_keywords = [\"multipack\", \"multipacks\", \"pk\",\"pack\",\"multi\",\"mp\"]"
   ]
  },
  {
   "cell_type": "code",
   "execution_count": 232,
   "id": "2c70da22",
   "metadata": {},
   "outputs": [
    {
     "data": {
      "text/plain": [
       "[]"
      ]
     },
     "execution_count": 232,
     "metadata": {},
     "output_type": "execute_result"
    }
   ],
   "source": [
    "[entry[\"uuid\"] for entry in missing_in_ccbf if entry[\"uuid\"] == \"8f724755-ebc6-4d97-b2ba-4b673701e551\"]"
   ]
  },
  {
   "cell_type": "code",
   "execution_count": 200,
   "id": "b7110ba4",
   "metadata": {},
   "outputs": [],
   "source": [
    "is_multipack = [\n",
    "    entry for entry in missing_in_ccbf\n",
    "    if entry.get(\"name\") and any(keyword in entry[\"name\"].lower() for keyword in multipack_keywords)\n",
    "]\n",
    "is_single = [entry for entry in missing_in_ccbf\n",
    "    if entry.get(\"name\") and \"single\" in entry[\"name\"].lower()\n",
    "]"
   ]
  },
  {
   "cell_type": "code",
   "execution_count": 201,
   "id": "9c96b0fc",
   "metadata": {},
   "outputs": [
    {
     "data": {
      "text/plain": [
       "59"
      ]
     },
     "execution_count": 201,
     "metadata": {},
     "output_type": "execute_result"
    }
   ],
   "source": [
    "len(is_single)"
   ]
  },
  {
   "cell_type": "code",
   "execution_count": 202,
   "id": "0a2f56f2",
   "metadata": {},
   "outputs": [
    {
     "data": {
      "text/plain": [
       "346"
      ]
     },
     "execution_count": 202,
     "metadata": {},
     "output_type": "execute_result"
    }
   ],
   "source": [
    "len(is_multipack)"
   ]
  },
  {
   "cell_type": "code",
   "execution_count": 218,
   "id": "8b57eb09",
   "metadata": {},
   "outputs": [],
   "source": [
    "with open(\"/Users/iman/Downloads/assets/response_1750174768453_session_19.json\") as f:\n",
    "    data = json.load(f)\n",
    "    data = data[\"data\"]\n",
    "\n",
    "uuids_session19 = set([entry[\"product\"][\"uuid\"] for entry in data])"
   ]
  },
  {
   "cell_type": "code",
   "execution_count": 220,
   "id": "79be73db",
   "metadata": {},
   "outputs": [],
   "source": [
    "missing_in_ccbf_uuids = set([entry[\"uuid\"] for entry in missing_in_ccbf])"
   ]
  },
  {
   "cell_type": "code",
   "execution_count": 224,
   "id": "ce227671",
   "metadata": {},
   "outputs": [
    {
     "data": {
      "text/plain": [
       "554"
      ]
     },
     "execution_count": 224,
     "metadata": {},
     "output_type": "execute_result"
    }
   ],
   "source": [
    "len(missing_in_ccbf_uuids)"
   ]
  },
  {
   "cell_type": "code",
   "execution_count": 226,
   "id": "1d854572",
   "metadata": {},
   "outputs": [
    {
     "data": {
      "text/plain": [
       "{'8f724755-ebc6-4d97-b2ba-4b673701e551',\n",
       " 'd730df87-4f01-48db-b52b-417d98e0c7fe'}"
      ]
     },
     "execution_count": 226,
     "metadata": {},
     "output_type": "execute_result"
    }
   ],
   "source": [
    "uuids_session19 - missing_in_ccbf_uuids"
   ]
  }
 ],
 "metadata": {
  "kernelspec": {
   "display_name": "pipeline",
   "language": "python",
   "name": "python3"
  },
  "language_info": {
   "codemirror_mode": {
    "name": "ipython",
    "version": 3
   },
   "file_extension": ".py",
   "mimetype": "text/x-python",
   "name": "python",
   "nbconvert_exporter": "python",
   "pygments_lexer": "ipython3",
   "version": "3.12.10"
  }
 },
 "nbformat": 4,
 "nbformat_minor": 5
}
